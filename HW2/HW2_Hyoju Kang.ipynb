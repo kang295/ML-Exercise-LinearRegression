{
 "cells": [
  {
   "cell_type": "markdown",
   "id": "bc0b1176",
   "metadata": {},
   "source": [
    "# Framingham heart Study"
   ]
  },
  {
   "cell_type": "markdown",
   "id": "9951232f",
   "metadata": {},
   "source": [
    "## Data Importing and Preprocessing"
   ]
  },
  {
   "cell_type": "code",
   "execution_count": 1,
   "id": "fe51d5c0",
   "metadata": {},
   "outputs": [],
   "source": [
    "import pandas as pd\n",
    "from sklearn.linear_model import LogisticRegression, LogisticRegressionCV\n",
    "from sklearn.model_selection import train_test_split, GridSearchCV\n",
    "from sklearn.metrics import confusion_matrix, roc_curve, roc_auc_score\n",
    "import matplotlib.pyplot as plt\n",
    "from sklearn.tree import DecisionTreeClassifier, plot_tree"
   ]
  },
  {
   "cell_type": "code",
   "execution_count": 2,
   "id": "80f7b47f",
   "metadata": {},
   "outputs": [
    {
     "data": {
      "text/html": [
       "<div>\n",
       "<style scoped>\n",
       "    .dataframe tbody tr th:only-of-type {\n",
       "        vertical-align: middle;\n",
       "    }\n",
       "\n",
       "    .dataframe tbody tr th {\n",
       "        vertical-align: top;\n",
       "    }\n",
       "\n",
       "    .dataframe thead th {\n",
       "        text-align: right;\n",
       "    }\n",
       "</style>\n",
       "<table border=\"1\" class=\"dataframe\">\n",
       "  <thead>\n",
       "    <tr style=\"text-align: right;\">\n",
       "      <th></th>\n",
       "      <th>Male</th>\n",
       "      <th>Age</th>\n",
       "      <th>Education</th>\n",
       "      <th>CurrentSmoker</th>\n",
       "      <th>CigsPerDay</th>\n",
       "      <th>BPMeds</th>\n",
       "      <th>PrevalentStroke</th>\n",
       "      <th>PrevalentHyp</th>\n",
       "      <th>Diabetes</th>\n",
       "      <th>TotChol</th>\n",
       "      <th>SysBP</th>\n",
       "      <th>DiaBP</th>\n",
       "      <th>BMI</th>\n",
       "      <th>HeartRate</th>\n",
       "      <th>Glucose</th>\n",
       "      <th>TenYearCHD</th>\n",
       "    </tr>\n",
       "  </thead>\n",
       "  <tbody>\n",
       "    <tr>\n",
       "      <th>0</th>\n",
       "      <td>1</td>\n",
       "      <td>39</td>\n",
       "      <td>College</td>\n",
       "      <td>0</td>\n",
       "      <td>0</td>\n",
       "      <td>0</td>\n",
       "      <td>0</td>\n",
       "      <td>0</td>\n",
       "      <td>0</td>\n",
       "      <td>195</td>\n",
       "      <td>106.0</td>\n",
       "      <td>70.0</td>\n",
       "      <td>26.97</td>\n",
       "      <td>80</td>\n",
       "      <td>77</td>\n",
       "      <td>0</td>\n",
       "    </tr>\n",
       "    <tr>\n",
       "      <th>1</th>\n",
       "      <td>0</td>\n",
       "      <td>46</td>\n",
       "      <td>High school/GED</td>\n",
       "      <td>0</td>\n",
       "      <td>0</td>\n",
       "      <td>0</td>\n",
       "      <td>0</td>\n",
       "      <td>0</td>\n",
       "      <td>0</td>\n",
       "      <td>250</td>\n",
       "      <td>121.0</td>\n",
       "      <td>81.0</td>\n",
       "      <td>28.73</td>\n",
       "      <td>95</td>\n",
       "      <td>76</td>\n",
       "      <td>0</td>\n",
       "    </tr>\n",
       "    <tr>\n",
       "      <th>2</th>\n",
       "      <td>1</td>\n",
       "      <td>48</td>\n",
       "      <td>Some high school</td>\n",
       "      <td>1</td>\n",
       "      <td>20</td>\n",
       "      <td>0</td>\n",
       "      <td>0</td>\n",
       "      <td>0</td>\n",
       "      <td>0</td>\n",
       "      <td>245</td>\n",
       "      <td>127.5</td>\n",
       "      <td>80.0</td>\n",
       "      <td>25.34</td>\n",
       "      <td>75</td>\n",
       "      <td>70</td>\n",
       "      <td>0</td>\n",
       "    </tr>\n",
       "  </tbody>\n",
       "</table>\n",
       "</div>"
      ],
      "text/plain": [
       "   Male  Age         Education  CurrentSmoker  CigsPerDay  BPMeds  \\\n",
       "0     1   39           College              0           0       0   \n",
       "1     0   46   High school/GED              0           0       0   \n",
       "2     1   48  Some high school              1          20       0   \n",
       "\n",
       "   PrevalentStroke  PrevalentHyp  Diabetes  TotChol  SysBP  DiaBP    BMI  \\\n",
       "0                0             0         0      195  106.0   70.0  26.97   \n",
       "1                0             0         0      250  121.0   81.0  28.73   \n",
       "2                0             0         0      245  127.5   80.0  25.34   \n",
       "\n",
       "   HeartRate  Glucose  TenYearCHD  \n",
       "0         80       77           0  \n",
       "1         95       76           0  \n",
       "2         75       70           0  "
      ]
     },
     "execution_count": 2,
     "metadata": {},
     "output_type": "execute_result"
    }
   ],
   "source": [
    "# data import\n",
    "\n",
    "df = pd.read_csv(\"framingham.csv\")\n",
    "df.head(3)"
   ]
  },
  {
   "cell_type": "code",
   "execution_count": 3,
   "id": "29cc3000",
   "metadata": {},
   "outputs": [
    {
     "name": "stdout",
     "output_type": "stream",
     "text": [
      "<class 'pandas.core.frame.DataFrame'>\n",
      "RangeIndex: 3658 entries, 0 to 3657\n",
      "Data columns (total 16 columns):\n",
      " #   Column           Non-Null Count  Dtype  \n",
      "---  ------           --------------  -----  \n",
      " 0   Male             3658 non-null   int64  \n",
      " 1   Age              3658 non-null   int64  \n",
      " 2   Education        3658 non-null   object \n",
      " 3   CurrentSmoker    3658 non-null   int64  \n",
      " 4   CigsPerDay       3658 non-null   int64  \n",
      " 5   BPMeds           3658 non-null   int64  \n",
      " 6   PrevalentStroke  3658 non-null   int64  \n",
      " 7   PrevalentHyp     3658 non-null   int64  \n",
      " 8   Diabetes         3658 non-null   int64  \n",
      " 9   TotChol          3658 non-null   int64  \n",
      " 10  SysBP            3658 non-null   float64\n",
      " 11  DiaBP            3658 non-null   float64\n",
      " 12  BMI              3658 non-null   float64\n",
      " 13  HeartRate        3658 non-null   int64  \n",
      " 14  Glucose          3658 non-null   int64  \n",
      " 15  TenYearCHD       3658 non-null   int64  \n",
      "dtypes: float64(3), int64(12), object(1)\n",
      "memory usage: 457.4+ KB\n"
     ]
    }
   ],
   "source": [
    "df.info()"
   ]
  },
  {
   "cell_type": "code",
   "execution_count": 4,
   "id": "c72b8260",
   "metadata": {},
   "outputs": [
    {
     "data": {
      "text/html": [
       "<div>\n",
       "<style scoped>\n",
       "    .dataframe tbody tr th:only-of-type {\n",
       "        vertical-align: middle;\n",
       "    }\n",
       "\n",
       "    .dataframe tbody tr th {\n",
       "        vertical-align: top;\n",
       "    }\n",
       "\n",
       "    .dataframe thead th {\n",
       "        text-align: right;\n",
       "    }\n",
       "</style>\n",
       "<table border=\"1\" class=\"dataframe\">\n",
       "  <thead>\n",
       "    <tr style=\"text-align: right;\">\n",
       "      <th></th>\n",
       "      <th>Male</th>\n",
       "      <th>Age</th>\n",
       "      <th>CurrentSmoker</th>\n",
       "      <th>CigsPerDay</th>\n",
       "      <th>BPMeds</th>\n",
       "      <th>PrevalentStroke</th>\n",
       "      <th>PrevalentHyp</th>\n",
       "      <th>Diabetes</th>\n",
       "      <th>TotChol</th>\n",
       "      <th>SysBP</th>\n",
       "      <th>DiaBP</th>\n",
       "      <th>BMI</th>\n",
       "      <th>HeartRate</th>\n",
       "      <th>Glucose</th>\n",
       "      <th>TenYearCHD</th>\n",
       "    </tr>\n",
       "  </thead>\n",
       "  <tbody>\n",
       "    <tr>\n",
       "      <th>count</th>\n",
       "      <td>3658.000000</td>\n",
       "      <td>3658.000000</td>\n",
       "      <td>3658.000000</td>\n",
       "      <td>3658.000000</td>\n",
       "      <td>3658.000000</td>\n",
       "      <td>3658.000000</td>\n",
       "      <td>3658.000000</td>\n",
       "      <td>3658.000000</td>\n",
       "      <td>3658.000000</td>\n",
       "      <td>3658.000000</td>\n",
       "      <td>3658.000000</td>\n",
       "      <td>3658.000000</td>\n",
       "      <td>3658.000000</td>\n",
       "      <td>3658.000000</td>\n",
       "      <td>3658.000000</td>\n",
       "    </tr>\n",
       "    <tr>\n",
       "      <th>mean</th>\n",
       "      <td>0.443685</td>\n",
       "      <td>49.551941</td>\n",
       "      <td>0.489065</td>\n",
       "      <td>9.025424</td>\n",
       "      <td>0.030344</td>\n",
       "      <td>0.005741</td>\n",
       "      <td>0.311646</td>\n",
       "      <td>0.027064</td>\n",
       "      <td>236.847731</td>\n",
       "      <td>132.370558</td>\n",
       "      <td>82.917031</td>\n",
       "      <td>25.782802</td>\n",
       "      <td>75.730727</td>\n",
       "      <td>81.852925</td>\n",
       "      <td>0.152269</td>\n",
       "    </tr>\n",
       "    <tr>\n",
       "      <th>std</th>\n",
       "      <td>0.496886</td>\n",
       "      <td>8.562029</td>\n",
       "      <td>0.499949</td>\n",
       "      <td>11.921590</td>\n",
       "      <td>0.171557</td>\n",
       "      <td>0.075561</td>\n",
       "      <td>0.463229</td>\n",
       "      <td>0.162292</td>\n",
       "      <td>44.097681</td>\n",
       "      <td>22.086866</td>\n",
       "      <td>11.974258</td>\n",
       "      <td>4.065601</td>\n",
       "      <td>11.981525</td>\n",
       "      <td>23.904164</td>\n",
       "      <td>0.359331</td>\n",
       "    </tr>\n",
       "    <tr>\n",
       "      <th>min</th>\n",
       "      <td>0.000000</td>\n",
       "      <td>32.000000</td>\n",
       "      <td>0.000000</td>\n",
       "      <td>0.000000</td>\n",
       "      <td>0.000000</td>\n",
       "      <td>0.000000</td>\n",
       "      <td>0.000000</td>\n",
       "      <td>0.000000</td>\n",
       "      <td>113.000000</td>\n",
       "      <td>83.500000</td>\n",
       "      <td>48.000000</td>\n",
       "      <td>15.540000</td>\n",
       "      <td>44.000000</td>\n",
       "      <td>40.000000</td>\n",
       "      <td>0.000000</td>\n",
       "    </tr>\n",
       "    <tr>\n",
       "      <th>25%</th>\n",
       "      <td>0.000000</td>\n",
       "      <td>42.000000</td>\n",
       "      <td>0.000000</td>\n",
       "      <td>0.000000</td>\n",
       "      <td>0.000000</td>\n",
       "      <td>0.000000</td>\n",
       "      <td>0.000000</td>\n",
       "      <td>0.000000</td>\n",
       "      <td>206.000000</td>\n",
       "      <td>117.000000</td>\n",
       "      <td>75.000000</td>\n",
       "      <td>23.080000</td>\n",
       "      <td>68.000000</td>\n",
       "      <td>71.000000</td>\n",
       "      <td>0.000000</td>\n",
       "    </tr>\n",
       "    <tr>\n",
       "      <th>50%</th>\n",
       "      <td>0.000000</td>\n",
       "      <td>49.000000</td>\n",
       "      <td>0.000000</td>\n",
       "      <td>0.000000</td>\n",
       "      <td>0.000000</td>\n",
       "      <td>0.000000</td>\n",
       "      <td>0.000000</td>\n",
       "      <td>0.000000</td>\n",
       "      <td>234.000000</td>\n",
       "      <td>128.000000</td>\n",
       "      <td>82.000000</td>\n",
       "      <td>25.380000</td>\n",
       "      <td>75.000000</td>\n",
       "      <td>78.000000</td>\n",
       "      <td>0.000000</td>\n",
       "    </tr>\n",
       "    <tr>\n",
       "      <th>75%</th>\n",
       "      <td>1.000000</td>\n",
       "      <td>56.000000</td>\n",
       "      <td>1.000000</td>\n",
       "      <td>20.000000</td>\n",
       "      <td>0.000000</td>\n",
       "      <td>0.000000</td>\n",
       "      <td>1.000000</td>\n",
       "      <td>0.000000</td>\n",
       "      <td>263.000000</td>\n",
       "      <td>143.875000</td>\n",
       "      <td>90.000000</td>\n",
       "      <td>28.037500</td>\n",
       "      <td>82.000000</td>\n",
       "      <td>87.000000</td>\n",
       "      <td>0.000000</td>\n",
       "    </tr>\n",
       "    <tr>\n",
       "      <th>max</th>\n",
       "      <td>1.000000</td>\n",
       "      <td>70.000000</td>\n",
       "      <td>1.000000</td>\n",
       "      <td>70.000000</td>\n",
       "      <td>1.000000</td>\n",
       "      <td>1.000000</td>\n",
       "      <td>1.000000</td>\n",
       "      <td>1.000000</td>\n",
       "      <td>600.000000</td>\n",
       "      <td>295.000000</td>\n",
       "      <td>142.500000</td>\n",
       "      <td>56.800000</td>\n",
       "      <td>143.000000</td>\n",
       "      <td>394.000000</td>\n",
       "      <td>1.000000</td>\n",
       "    </tr>\n",
       "  </tbody>\n",
       "</table>\n",
       "</div>"
      ],
      "text/plain": [
       "              Male          Age  CurrentSmoker   CigsPerDay       BPMeds  \\\n",
       "count  3658.000000  3658.000000    3658.000000  3658.000000  3658.000000   \n",
       "mean      0.443685    49.551941       0.489065     9.025424     0.030344   \n",
       "std       0.496886     8.562029       0.499949    11.921590     0.171557   \n",
       "min       0.000000    32.000000       0.000000     0.000000     0.000000   \n",
       "25%       0.000000    42.000000       0.000000     0.000000     0.000000   \n",
       "50%       0.000000    49.000000       0.000000     0.000000     0.000000   \n",
       "75%       1.000000    56.000000       1.000000    20.000000     0.000000   \n",
       "max       1.000000    70.000000       1.000000    70.000000     1.000000   \n",
       "\n",
       "       PrevalentStroke  PrevalentHyp     Diabetes      TotChol        SysBP  \\\n",
       "count      3658.000000   3658.000000  3658.000000  3658.000000  3658.000000   \n",
       "mean          0.005741      0.311646     0.027064   236.847731   132.370558   \n",
       "std           0.075561      0.463229     0.162292    44.097681    22.086866   \n",
       "min           0.000000      0.000000     0.000000   113.000000    83.500000   \n",
       "25%           0.000000      0.000000     0.000000   206.000000   117.000000   \n",
       "50%           0.000000      0.000000     0.000000   234.000000   128.000000   \n",
       "75%           0.000000      1.000000     0.000000   263.000000   143.875000   \n",
       "max           1.000000      1.000000     1.000000   600.000000   295.000000   \n",
       "\n",
       "             DiaBP          BMI    HeartRate      Glucose   TenYearCHD  \n",
       "count  3658.000000  3658.000000  3658.000000  3658.000000  3658.000000  \n",
       "mean     82.917031    25.782802    75.730727    81.852925     0.152269  \n",
       "std      11.974258     4.065601    11.981525    23.904164     0.359331  \n",
       "min      48.000000    15.540000    44.000000    40.000000     0.000000  \n",
       "25%      75.000000    23.080000    68.000000    71.000000     0.000000  \n",
       "50%      82.000000    25.380000    75.000000    78.000000     0.000000  \n",
       "75%      90.000000    28.037500    82.000000    87.000000     0.000000  \n",
       "max     142.500000    56.800000   143.000000   394.000000     1.000000  "
      ]
     },
     "execution_count": 4,
     "metadata": {},
     "output_type": "execute_result"
    }
   ],
   "source": [
    "df.describe()"
   ]
  },
  {
   "cell_type": "code",
   "execution_count": 5,
   "id": "6500345a",
   "metadata": {},
   "outputs": [
    {
     "data": {
      "text/plain": [
       "Male               0\n",
       "Age                0\n",
       "Education          0\n",
       "CurrentSmoker      0\n",
       "CigsPerDay         0\n",
       "BPMeds             0\n",
       "PrevalentStroke    0\n",
       "PrevalentHyp       0\n",
       "Diabetes           0\n",
       "TotChol            0\n",
       "SysBP              0\n",
       "DiaBP              0\n",
       "BMI                0\n",
       "HeartRate          0\n",
       "Glucose            0\n",
       "TenYearCHD         0\n",
       "dtype: int64"
      ]
     },
     "execution_count": 5,
     "metadata": {},
     "output_type": "execute_result"
    }
   ],
   "source": [
    "missing_values = df.isnull().sum()\n",
    "missing_values"
   ]
  },
  {
   "cell_type": "code",
   "execution_count": 6,
   "id": "28374654",
   "metadata": {},
   "outputs": [
    {
     "data": {
      "text/plain": [
       "0"
      ]
     },
     "execution_count": 6,
     "metadata": {},
     "output_type": "execute_result"
    }
   ],
   "source": [
    "duplicates = df.duplicated().sum()\n",
    "duplicates"
   ]
  },
  {
   "cell_type": "code",
   "execution_count": 7,
   "id": "d00995fc",
   "metadata": {},
   "outputs": [],
   "source": [
    "df = pd.get_dummies(df, drop_first=True)"
   ]
  },
  {
   "cell_type": "code",
   "execution_count": 8,
   "id": "569b905b",
   "metadata": {},
   "outputs": [
    {
     "data": {
      "text/html": [
       "<div>\n",
       "<style scoped>\n",
       "    .dataframe tbody tr th:only-of-type {\n",
       "        vertical-align: middle;\n",
       "    }\n",
       "\n",
       "    .dataframe tbody tr th {\n",
       "        vertical-align: top;\n",
       "    }\n",
       "\n",
       "    .dataframe thead th {\n",
       "        text-align: right;\n",
       "    }\n",
       "</style>\n",
       "<table border=\"1\" class=\"dataframe\">\n",
       "  <thead>\n",
       "    <tr style=\"text-align: right;\">\n",
       "      <th></th>\n",
       "      <th>Male</th>\n",
       "      <th>Age</th>\n",
       "      <th>CurrentSmoker</th>\n",
       "      <th>CigsPerDay</th>\n",
       "      <th>BPMeds</th>\n",
       "      <th>PrevalentStroke</th>\n",
       "      <th>PrevalentHyp</th>\n",
       "      <th>Diabetes</th>\n",
       "      <th>TotChol</th>\n",
       "      <th>SysBP</th>\n",
       "      <th>DiaBP</th>\n",
       "      <th>BMI</th>\n",
       "      <th>HeartRate</th>\n",
       "      <th>Glucose</th>\n",
       "      <th>TenYearCHD</th>\n",
       "      <th>Education_High school/GED</th>\n",
       "      <th>Education_Some college/vocational school</th>\n",
       "      <th>Education_Some high school</th>\n",
       "    </tr>\n",
       "  </thead>\n",
       "  <tbody>\n",
       "    <tr>\n",
       "      <th>0</th>\n",
       "      <td>1</td>\n",
       "      <td>39</td>\n",
       "      <td>0</td>\n",
       "      <td>0</td>\n",
       "      <td>0</td>\n",
       "      <td>0</td>\n",
       "      <td>0</td>\n",
       "      <td>0</td>\n",
       "      <td>195</td>\n",
       "      <td>106.0</td>\n",
       "      <td>70.0</td>\n",
       "      <td>26.97</td>\n",
       "      <td>80</td>\n",
       "      <td>77</td>\n",
       "      <td>0</td>\n",
       "      <td>0</td>\n",
       "      <td>0</td>\n",
       "      <td>0</td>\n",
       "    </tr>\n",
       "    <tr>\n",
       "      <th>1</th>\n",
       "      <td>0</td>\n",
       "      <td>46</td>\n",
       "      <td>0</td>\n",
       "      <td>0</td>\n",
       "      <td>0</td>\n",
       "      <td>0</td>\n",
       "      <td>0</td>\n",
       "      <td>0</td>\n",
       "      <td>250</td>\n",
       "      <td>121.0</td>\n",
       "      <td>81.0</td>\n",
       "      <td>28.73</td>\n",
       "      <td>95</td>\n",
       "      <td>76</td>\n",
       "      <td>0</td>\n",
       "      <td>1</td>\n",
       "      <td>0</td>\n",
       "      <td>0</td>\n",
       "    </tr>\n",
       "    <tr>\n",
       "      <th>2</th>\n",
       "      <td>1</td>\n",
       "      <td>48</td>\n",
       "      <td>1</td>\n",
       "      <td>20</td>\n",
       "      <td>0</td>\n",
       "      <td>0</td>\n",
       "      <td>0</td>\n",
       "      <td>0</td>\n",
       "      <td>245</td>\n",
       "      <td>127.5</td>\n",
       "      <td>80.0</td>\n",
       "      <td>25.34</td>\n",
       "      <td>75</td>\n",
       "      <td>70</td>\n",
       "      <td>0</td>\n",
       "      <td>0</td>\n",
       "      <td>0</td>\n",
       "      <td>1</td>\n",
       "    </tr>\n",
       "  </tbody>\n",
       "</table>\n",
       "</div>"
      ],
      "text/plain": [
       "   Male  Age  CurrentSmoker  CigsPerDay  BPMeds  PrevalentStroke  \\\n",
       "0     1   39              0           0       0                0   \n",
       "1     0   46              0           0       0                0   \n",
       "2     1   48              1          20       0                0   \n",
       "\n",
       "   PrevalentHyp  Diabetes  TotChol  SysBP  DiaBP    BMI  HeartRate  Glucose  \\\n",
       "0             0         0      195  106.0   70.0  26.97         80       77   \n",
       "1             0         0      250  121.0   81.0  28.73         95       76   \n",
       "2             0         0      245  127.5   80.0  25.34         75       70   \n",
       "\n",
       "   TenYearCHD  Education_High school/GED  \\\n",
       "0           0                          0   \n",
       "1           0                          1   \n",
       "2           0                          0   \n",
       "\n",
       "   Education_Some college/vocational school  Education_Some high school  \n",
       "0                                         0                           0  \n",
       "1                                         0                           0  \n",
       "2                                         0                           1  "
      ]
     },
     "execution_count": 8,
     "metadata": {},
     "output_type": "execute_result"
    }
   ],
   "source": [
    "df.head(3)"
   ]
  },
  {
   "cell_type": "code",
   "execution_count": 9,
   "id": "6c8efc41",
   "metadata": {},
   "outputs": [
    {
     "data": {
      "text/html": [
       "<div>\n",
       "<style scoped>\n",
       "    .dataframe tbody tr th:only-of-type {\n",
       "        vertical-align: middle;\n",
       "    }\n",
       "\n",
       "    .dataframe tbody tr th {\n",
       "        vertical-align: top;\n",
       "    }\n",
       "\n",
       "    .dataframe thead th {\n",
       "        text-align: right;\n",
       "    }\n",
       "</style>\n",
       "<table border=\"1\" class=\"dataframe\">\n",
       "  <thead>\n",
       "    <tr style=\"text-align: right;\">\n",
       "      <th></th>\n",
       "      <th>Male</th>\n",
       "      <th>Age</th>\n",
       "      <th>CurrentSmoker</th>\n",
       "      <th>CigsPerDay</th>\n",
       "      <th>BPMeds</th>\n",
       "      <th>PrevalentStroke</th>\n",
       "      <th>PrevalentHyp</th>\n",
       "      <th>Diabetes</th>\n",
       "      <th>TotChol</th>\n",
       "      <th>SysBP</th>\n",
       "      <th>DiaBP</th>\n",
       "      <th>BMI</th>\n",
       "      <th>HeartRate</th>\n",
       "      <th>Glucose</th>\n",
       "      <th>TenYearCHD</th>\n",
       "      <th>Education_High school/GED</th>\n",
       "      <th>Education_Some college/vocational school</th>\n",
       "      <th>Education_Some high school</th>\n",
       "    </tr>\n",
       "  </thead>\n",
       "  <tbody>\n",
       "    <tr>\n",
       "      <th>0</th>\n",
       "      <td>1</td>\n",
       "      <td>-1.232411</td>\n",
       "      <td>0</td>\n",
       "      <td>-0.757065</td>\n",
       "      <td>0</td>\n",
       "      <td>0</td>\n",
       "      <td>0</td>\n",
       "      <td>0</td>\n",
       "      <td>-0.948978</td>\n",
       "      <td>-1.193947</td>\n",
       "      <td>-1.078733</td>\n",
       "      <td>0.292010</td>\n",
       "      <td>0.356321</td>\n",
       "      <td>-0.203016</td>\n",
       "      <td>0</td>\n",
       "      <td>0</td>\n",
       "      <td>0</td>\n",
       "      <td>0</td>\n",
       "    </tr>\n",
       "    <tr>\n",
       "      <th>1</th>\n",
       "      <td>0</td>\n",
       "      <td>-0.414848</td>\n",
       "      <td>0</td>\n",
       "      <td>-0.757065</td>\n",
       "      <td>0</td>\n",
       "      <td>0</td>\n",
       "      <td>0</td>\n",
       "      <td>0</td>\n",
       "      <td>0.298253</td>\n",
       "      <td>-0.514811</td>\n",
       "      <td>-0.160096</td>\n",
       "      <td>0.724911</td>\n",
       "      <td>1.608249</td>\n",
       "      <td>-0.244850</td>\n",
       "      <td>0</td>\n",
       "      <td>1</td>\n",
       "      <td>0</td>\n",
       "      <td>0</td>\n",
       "    </tr>\n",
       "    <tr>\n",
       "      <th>2</th>\n",
       "      <td>1</td>\n",
       "      <td>-0.181259</td>\n",
       "      <td>1</td>\n",
       "      <td>0.920563</td>\n",
       "      <td>0</td>\n",
       "      <td>0</td>\n",
       "      <td>0</td>\n",
       "      <td>0</td>\n",
       "      <td>0.184868</td>\n",
       "      <td>-0.220518</td>\n",
       "      <td>-0.243609</td>\n",
       "      <td>-0.108914</td>\n",
       "      <td>-0.060988</td>\n",
       "      <td>-0.495852</td>\n",
       "      <td>0</td>\n",
       "      <td>0</td>\n",
       "      <td>0</td>\n",
       "      <td>1</td>\n",
       "    </tr>\n",
       "    <tr>\n",
       "      <th>3</th>\n",
       "      <td>0</td>\n",
       "      <td>1.337073</td>\n",
       "      <td>1</td>\n",
       "      <td>1.759377</td>\n",
       "      <td>0</td>\n",
       "      <td>0</td>\n",
       "      <td>1</td>\n",
       "      <td>0</td>\n",
       "      <td>-0.268670</td>\n",
       "      <td>0.798187</td>\n",
       "      <td>1.009079</td>\n",
       "      <td>0.688016</td>\n",
       "      <td>-0.895606</td>\n",
       "      <td>0.884661</td>\n",
       "      <td>1</td>\n",
       "      <td>0</td>\n",
       "      <td>1</td>\n",
       "      <td>0</td>\n",
       "    </tr>\n",
       "    <tr>\n",
       "      <th>4</th>\n",
       "      <td>0</td>\n",
       "      <td>-0.414848</td>\n",
       "      <td>1</td>\n",
       "      <td>1.172207</td>\n",
       "      <td>0</td>\n",
       "      <td>0</td>\n",
       "      <td>0</td>\n",
       "      <td>0</td>\n",
       "      <td>1.091946</td>\n",
       "      <td>-0.107329</td>\n",
       "      <td>0.090441</td>\n",
       "      <td>-0.659878</td>\n",
       "      <td>0.773630</td>\n",
       "      <td>0.131654</td>\n",
       "      <td>0</td>\n",
       "      <td>0</td>\n",
       "      <td>1</td>\n",
       "      <td>0</td>\n",
       "    </tr>\n",
       "    <tr>\n",
       "      <th>...</th>\n",
       "      <td>...</td>\n",
       "      <td>...</td>\n",
       "      <td>...</td>\n",
       "      <td>...</td>\n",
       "      <td>...</td>\n",
       "      <td>...</td>\n",
       "      <td>...</td>\n",
       "      <td>...</td>\n",
       "      <td>...</td>\n",
       "      <td>...</td>\n",
       "      <td>...</td>\n",
       "      <td>...</td>\n",
       "      <td>...</td>\n",
       "      <td>...</td>\n",
       "      <td>...</td>\n",
       "      <td>...</td>\n",
       "      <td>...</td>\n",
       "      <td>...</td>\n",
       "    </tr>\n",
       "    <tr>\n",
       "      <th>3653</th>\n",
       "      <td>1</td>\n",
       "      <td>0.052331</td>\n",
       "      <td>1</td>\n",
       "      <td>-0.673184</td>\n",
       "      <td>0</td>\n",
       "      <td>0</td>\n",
       "      <td>1</td>\n",
       "      <td>0</td>\n",
       "      <td>1.726900</td>\n",
       "      <td>2.111184</td>\n",
       "      <td>0.758541</td>\n",
       "      <td>0.046044</td>\n",
       "      <td>-0.812144</td>\n",
       "      <td>0.173488</td>\n",
       "      <td>1</td>\n",
       "      <td>0</td>\n",
       "      <td>0</td>\n",
       "      <td>1</td>\n",
       "    </tr>\n",
       "    <tr>\n",
       "      <th>3654</th>\n",
       "      <td>1</td>\n",
       "      <td>0.169126</td>\n",
       "      <td>1</td>\n",
       "      <td>2.849836</td>\n",
       "      <td>0</td>\n",
       "      <td>0</td>\n",
       "      <td>0</td>\n",
       "      <td>0</td>\n",
       "      <td>-0.676855</td>\n",
       "      <td>-0.265794</td>\n",
       "      <td>-0.243609</td>\n",
       "      <td>-1.493704</td>\n",
       "      <td>-0.895606</td>\n",
       "      <td>-0.579519</td>\n",
       "      <td>0</td>\n",
       "      <td>0</td>\n",
       "      <td>1</td>\n",
       "      <td>0</td>\n",
       "    </tr>\n",
       "    <tr>\n",
       "      <th>3655</th>\n",
       "      <td>0</td>\n",
       "      <td>0.285920</td>\n",
       "      <td>0</td>\n",
       "      <td>-0.757065</td>\n",
       "      <td>0</td>\n",
       "      <td>0</td>\n",
       "      <td>0</td>\n",
       "      <td>0</td>\n",
       "      <td>0.729115</td>\n",
       "      <td>0.051136</td>\n",
       "      <td>0.006929</td>\n",
       "      <td>-1.060803</td>\n",
       "      <td>0.356321</td>\n",
       "      <td>1.051996</td>\n",
       "      <td>0</td>\n",
       "      <td>1</td>\n",
       "      <td>0</td>\n",
       "      <td>0</td>\n",
       "    </tr>\n",
       "    <tr>\n",
       "      <th>3656</th>\n",
       "      <td>1</td>\n",
       "      <td>-1.115616</td>\n",
       "      <td>0</td>\n",
       "      <td>-0.757065</td>\n",
       "      <td>0</td>\n",
       "      <td>0</td>\n",
       "      <td>1</td>\n",
       "      <td>0</td>\n",
       "      <td>-1.175747</td>\n",
       "      <td>0.390705</td>\n",
       "      <td>1.259616</td>\n",
       "      <td>-0.044963</td>\n",
       "      <td>-0.728682</td>\n",
       "      <td>-0.412184</td>\n",
       "      <td>0</td>\n",
       "      <td>0</td>\n",
       "      <td>1</td>\n",
       "      <td>0</td>\n",
       "    </tr>\n",
       "    <tr>\n",
       "      <th>3657</th>\n",
       "      <td>0</td>\n",
       "      <td>-1.232411</td>\n",
       "      <td>1</td>\n",
       "      <td>1.759377</td>\n",
       "      <td>0</td>\n",
       "      <td>0</td>\n",
       "      <td>0</td>\n",
       "      <td>0</td>\n",
       "      <td>-0.926301</td>\n",
       "      <td>0.028498</td>\n",
       "      <td>0.257466</td>\n",
       "      <td>-1.198544</td>\n",
       "      <td>0.773630</td>\n",
       "      <td>-0.077515</td>\n",
       "      <td>0</td>\n",
       "      <td>0</td>\n",
       "      <td>1</td>\n",
       "      <td>0</td>\n",
       "    </tr>\n",
       "  </tbody>\n",
       "</table>\n",
       "<p>3658 rows × 18 columns</p>\n",
       "</div>"
      ],
      "text/plain": [
       "      Male       Age  CurrentSmoker  CigsPerDay  BPMeds  PrevalentStroke  \\\n",
       "0        1 -1.232411              0   -0.757065       0                0   \n",
       "1        0 -0.414848              0   -0.757065       0                0   \n",
       "2        1 -0.181259              1    0.920563       0                0   \n",
       "3        0  1.337073              1    1.759377       0                0   \n",
       "4        0 -0.414848              1    1.172207       0                0   \n",
       "...    ...       ...            ...         ...     ...              ...   \n",
       "3653     1  0.052331              1   -0.673184       0                0   \n",
       "3654     1  0.169126              1    2.849836       0                0   \n",
       "3655     0  0.285920              0   -0.757065       0                0   \n",
       "3656     1 -1.115616              0   -0.757065       0                0   \n",
       "3657     0 -1.232411              1    1.759377       0                0   \n",
       "\n",
       "      PrevalentHyp  Diabetes   TotChol     SysBP     DiaBP       BMI  \\\n",
       "0                0         0 -0.948978 -1.193947 -1.078733  0.292010   \n",
       "1                0         0  0.298253 -0.514811 -0.160096  0.724911   \n",
       "2                0         0  0.184868 -0.220518 -0.243609 -0.108914   \n",
       "3                1         0 -0.268670  0.798187  1.009079  0.688016   \n",
       "4                0         0  1.091946 -0.107329  0.090441 -0.659878   \n",
       "...            ...       ...       ...       ...       ...       ...   \n",
       "3653             1         0  1.726900  2.111184  0.758541  0.046044   \n",
       "3654             0         0 -0.676855 -0.265794 -0.243609 -1.493704   \n",
       "3655             0         0  0.729115  0.051136  0.006929 -1.060803   \n",
       "3656             1         0 -1.175747  0.390705  1.259616 -0.044963   \n",
       "3657             0         0 -0.926301  0.028498  0.257466 -1.198544   \n",
       "\n",
       "      HeartRate   Glucose  TenYearCHD  Education_High school/GED  \\\n",
       "0      0.356321 -0.203016           0                          0   \n",
       "1      1.608249 -0.244850           0                          1   \n",
       "2     -0.060988 -0.495852           0                          0   \n",
       "3     -0.895606  0.884661           1                          0   \n",
       "4      0.773630  0.131654           0                          0   \n",
       "...         ...       ...         ...                        ...   \n",
       "3653  -0.812144  0.173488           1                          0   \n",
       "3654  -0.895606 -0.579519           0                          0   \n",
       "3655   0.356321  1.051996           0                          1   \n",
       "3656  -0.728682 -0.412184           0                          0   \n",
       "3657   0.773630 -0.077515           0                          0   \n",
       "\n",
       "      Education_Some college/vocational school  Education_Some high school  \n",
       "0                                            0                           0  \n",
       "1                                            0                           0  \n",
       "2                                            0                           1  \n",
       "3                                            1                           0  \n",
       "4                                            1                           0  \n",
       "...                                        ...                         ...  \n",
       "3653                                         0                           1  \n",
       "3654                                         1                           0  \n",
       "3655                                         0                           0  \n",
       "3656                                         1                           0  \n",
       "3657                                         1                           0  \n",
       "\n",
       "[3658 rows x 18 columns]"
      ]
     },
     "execution_count": 9,
     "metadata": {},
     "output_type": "execute_result"
    }
   ],
   "source": [
    "# Define the binary columns that should not be changed\n",
    "binary_columns = ['Male', 'CurrentSmoker', 'BPMeds', 'PrevalentStroke', 'PrevalentHyp', 'Diabetes', 'TenYearCHD','Education_High school/GED','Education_Some college/vocational school','Education_Some high school']\n",
    "\n",
    "# Exclude binary columns from the scaling process\n",
    "continuous_columns = df.columns.difference(binary_columns)\n",
    "\n",
    "# Standardize only the continuous columns\n",
    "df[continuous_columns] = (df[continuous_columns] - df[continuous_columns].mean()) / df[continuous_columns].std()\n",
    "\n",
    "# df now has standardized continuous columns and unchanged binary columns\n",
    "df"
   ]
  },
  {
   "cell_type": "markdown",
   "id": "ca105de4",
   "metadata": {},
   "source": [
    "### Splitting the data"
   ]
  },
  {
   "cell_type": "code",
   "execution_count": 10,
   "id": "2845b101",
   "metadata": {},
   "outputs": [
    {
     "name": "stdout",
     "output_type": "stream",
     "text": [
      "0.15234375\n",
      "0.15209471766848817\n"
     ]
    }
   ],
   "source": [
    "X = df.drop('TenYearCHD', axis=1)\n",
    "y = df['TenYearCHD']\n",
    "X_train, X_test, y_train, y_test = train_test_split(X, y, test_size=0.3,stratify=y, random_state=21)\n",
    "\n",
    "print(y_train.mean())\n",
    "print(y_test.mean())"
   ]
  },
  {
   "cell_type": "code",
   "execution_count": 11,
   "id": "0f58cb5c",
   "metadata": {},
   "outputs": [
    {
     "name": "stdout",
     "output_type": "stream",
     "text": [
      "[[ 0.5448233   0.53828351  0.34368633  0.15497598 -0.12199588  0.97903599\n",
      "   0.30076012  0.08081888  0.11060481  0.36200018 -0.02476796 -0.01664497\n",
      "  -0.09599582  0.16912942 -0.09313108 -0.04775272  0.1846442 ]]\n",
      "[-2.5833884]\n"
     ]
    },
    {
     "name": "stderr",
     "output_type": "stream",
     "text": [
      "/Users/hyoju/anaconda3/lib/python3.10/site-packages/sklearn/linear_model/_logistic.py:1173: FutureWarning: `penalty='none'`has been deprecated in 1.2 and will be removed in 1.4. To keep the past behaviour, set `penalty=None`.\n",
      "  warnings.warn(\n"
     ]
    }
   ],
   "source": [
    "clf = LogisticRegression(random_state=0, penalty='none', max_iter=1000)\n",
    "clf.fit(X_train, y_train)\n",
    "print(clf.coef_)\n",
    "print(clf.intercept_)"
   ]
  },
  {
   "cell_type": "code",
   "execution_count": 12,
   "id": "f8060ea7",
   "metadata": {},
   "outputs": [],
   "source": [
    "y_pred = clf.predict_proba(X_test)[:,1]"
   ]
  },
  {
   "cell_type": "code",
   "execution_count": 13,
   "id": "b968d20a",
   "metadata": {},
   "outputs": [
    {
     "data": {
      "text/plain": [
       "0.7147552371090259"
      ]
     },
     "execution_count": 13,
     "metadata": {},
     "output_type": "execute_result"
    }
   ],
   "source": [
    "roc_auc_score(y_test,y_pred)"
   ]
  },
  {
   "cell_type": "markdown",
   "id": "ae95377e",
   "metadata": {},
   "source": [
    "#### Logistic Regression with L1-regularization (Lasso)"
   ]
  },
  {
   "cell_type": "code",
   "execution_count": 14,
   "id": "34fdd619",
   "metadata": {},
   "outputs": [
    {
     "data": {
      "text/plain": [
       "0.7170449648501065"
      ]
     },
     "execution_count": 14,
     "metadata": {},
     "output_type": "execute_result"
    }
   ],
   "source": [
    "reg_l1 = LogisticRegressionCV(penalty='l1', Cs=[1, 10, 100], cv=5, solver='liblinear',random_state = 21)\n",
    "reg_l1.fit(X_train, y_train)\n",
    "y_pred_reg_l1 = reg_l1.predict_proba(X_test)[:, 1]\n",
    "roc_auc_score(y_test, y_pred_reg_l1)"
   ]
  },
  {
   "cell_type": "markdown",
   "id": "7695a6ac",
   "metadata": {},
   "source": [
    "#### Logistic Regression with L2-regularization (Ridge)"
   ]
  },
  {
   "cell_type": "code",
   "execution_count": 15,
   "id": "9661bc95",
   "metadata": {},
   "outputs": [
    {
     "data": {
      "text/plain": [
       "0.7149932144304302"
      ]
     },
     "execution_count": 15,
     "metadata": {},
     "output_type": "execute_result"
    }
   ],
   "source": [
    "reg_l2 = LogisticRegressionCV(penalty='l2', Cs=[1, 10, 100], cv=5, solver='liblinear')\n",
    "reg_l2.fit(X_train, y_train)\n",
    "y_pred_reg_l2 = reg_l2.predict_proba(X_test)[:, 1]\n",
    "roc_auc_score(y_test, y_pred_reg_l2)"
   ]
  },
  {
   "cell_type": "markdown",
   "id": "e0a26c1c",
   "metadata": {},
   "source": [
    "#### Decision Tree"
   ]
  },
  {
   "cell_type": "code",
   "execution_count": 25,
   "id": "17743723",
   "metadata": {},
   "outputs": [
    {
     "data": {
      "text/plain": [
       "0.6631495333714954"
      ]
     },
     "execution_count": 25,
     "metadata": {},
     "output_type": "execute_result"
    }
   ],
   "source": [
    "Dec = DecisionTreeClassifier(max_depth=3)\n",
    "Dec.fit(X_train,y_train)\n",
    "y_pred = Dec.predict_proba(X_test)[:,1]\n",
    "roc_auc_score(y_test,y_pred)"
   ]
  },
  {
   "cell_type": "code",
   "execution_count": 26,
   "id": "b5f9503b",
   "metadata": {},
   "outputs": [
    {
     "data": {
      "text/plain": [
       "0.550251805733324"
      ]
     },
     "execution_count": 26,
     "metadata": {},
     "output_type": "execute_result"
    }
   ],
   "source": [
    "# Decision Tree WITHOUT 5-fold cross validation\n",
    "\n",
    "Dec = DecisionTreeClassifier(random_state = 21)\n",
    "Dec.fit(X_train,y_train)\n",
    "\n",
    "y_pred = Dec.predict_proba(X_test)[:,1]\n",
    "roc_auc_score(y_test,y_pred)"
   ]
  },
  {
   "cell_type": "code",
   "execution_count": 28,
   "id": "c8e175d5",
   "metadata": {},
   "outputs": [
    {
     "data": {
      "text/html": [
       "<style>#sk-container-id-1 {color: black;background-color: white;}#sk-container-id-1 pre{padding: 0;}#sk-container-id-1 div.sk-toggleable {background-color: white;}#sk-container-id-1 label.sk-toggleable__label {cursor: pointer;display: block;width: 100%;margin-bottom: 0;padding: 0.3em;box-sizing: border-box;text-align: center;}#sk-container-id-1 label.sk-toggleable__label-arrow:before {content: \"▸\";float: left;margin-right: 0.25em;color: #696969;}#sk-container-id-1 label.sk-toggleable__label-arrow:hover:before {color: black;}#sk-container-id-1 div.sk-estimator:hover label.sk-toggleable__label-arrow:before {color: black;}#sk-container-id-1 div.sk-toggleable__content {max-height: 0;max-width: 0;overflow: hidden;text-align: left;background-color: #f0f8ff;}#sk-container-id-1 div.sk-toggleable__content pre {margin: 0.2em;color: black;border-radius: 0.25em;background-color: #f0f8ff;}#sk-container-id-1 input.sk-toggleable__control:checked~div.sk-toggleable__content {max-height: 200px;max-width: 100%;overflow: auto;}#sk-container-id-1 input.sk-toggleable__control:checked~label.sk-toggleable__label-arrow:before {content: \"▾\";}#sk-container-id-1 div.sk-estimator input.sk-toggleable__control:checked~label.sk-toggleable__label {background-color: #d4ebff;}#sk-container-id-1 div.sk-label input.sk-toggleable__control:checked~label.sk-toggleable__label {background-color: #d4ebff;}#sk-container-id-1 input.sk-hidden--visually {border: 0;clip: rect(1px 1px 1px 1px);clip: rect(1px, 1px, 1px, 1px);height: 1px;margin: -1px;overflow: hidden;padding: 0;position: absolute;width: 1px;}#sk-container-id-1 div.sk-estimator {font-family: monospace;background-color: #f0f8ff;border: 1px dotted black;border-radius: 0.25em;box-sizing: border-box;margin-bottom: 0.5em;}#sk-container-id-1 div.sk-estimator:hover {background-color: #d4ebff;}#sk-container-id-1 div.sk-parallel-item::after {content: \"\";width: 100%;border-bottom: 1px solid gray;flex-grow: 1;}#sk-container-id-1 div.sk-label:hover label.sk-toggleable__label {background-color: #d4ebff;}#sk-container-id-1 div.sk-serial::before {content: \"\";position: absolute;border-left: 1px solid gray;box-sizing: border-box;top: 0;bottom: 0;left: 50%;z-index: 0;}#sk-container-id-1 div.sk-serial {display: flex;flex-direction: column;align-items: center;background-color: white;padding-right: 0.2em;padding-left: 0.2em;position: relative;}#sk-container-id-1 div.sk-item {position: relative;z-index: 1;}#sk-container-id-1 div.sk-parallel {display: flex;align-items: stretch;justify-content: center;background-color: white;position: relative;}#sk-container-id-1 div.sk-item::before, #sk-container-id-1 div.sk-parallel-item::before {content: \"\";position: absolute;border-left: 1px solid gray;box-sizing: border-box;top: 0;bottom: 0;left: 50%;z-index: -1;}#sk-container-id-1 div.sk-parallel-item {display: flex;flex-direction: column;z-index: 1;position: relative;background-color: white;}#sk-container-id-1 div.sk-parallel-item:first-child::after {align-self: flex-end;width: 50%;}#sk-container-id-1 div.sk-parallel-item:last-child::after {align-self: flex-start;width: 50%;}#sk-container-id-1 div.sk-parallel-item:only-child::after {width: 0;}#sk-container-id-1 div.sk-dashed-wrapped {border: 1px dashed gray;margin: 0 0.4em 0.5em 0.4em;box-sizing: border-box;padding-bottom: 0.4em;background-color: white;}#sk-container-id-1 div.sk-label label {font-family: monospace;font-weight: bold;display: inline-block;line-height: 1.2em;}#sk-container-id-1 div.sk-label-container {text-align: center;}#sk-container-id-1 div.sk-container {/* jupyter's `normalize.less` sets `[hidden] { display: none; }` but bootstrap.min.css set `[hidden] { display: none !important; }` so we also need the `!important` here to be able to override the default hidden behavior on the sphinx rendered scikit-learn.org. See: https://github.com/scikit-learn/scikit-learn/issues/21755 */display: inline-block !important;position: relative;}#sk-container-id-1 div.sk-text-repr-fallback {display: none;}</style><div id=\"sk-container-id-1\" class=\"sk-top-container\"><div class=\"sk-text-repr-fallback\"><pre>DecisionTreeClassifier(max_depth=3)</pre><b>In a Jupyter environment, please rerun this cell to show the HTML representation or trust the notebook. <br />On GitHub, the HTML representation is unable to render, please try loading this page with nbviewer.org.</b></div><div class=\"sk-container\" hidden><div class=\"sk-item\"><div class=\"sk-estimator sk-toggleable\"><input class=\"sk-toggleable__control sk-hidden--visually\" id=\"sk-estimator-id-1\" type=\"checkbox\" checked><label for=\"sk-estimator-id-1\" class=\"sk-toggleable__label sk-toggleable__label-arrow\">DecisionTreeClassifier</label><div class=\"sk-toggleable__content\"><pre>DecisionTreeClassifier(max_depth=3)</pre></div></div></div></div></div>"
      ],
      "text/plain": [
       "DecisionTreeClassifier(max_depth=3)"
      ]
     },
     "execution_count": 28,
     "metadata": {},
     "output_type": "execute_result"
    }
   ],
   "source": [
    "simple_tree = DecisionTreeClassifier(max_depth=3)\n",
    "simple_tree.fit(X_train, y_train)"
   ]
  },
  {
   "cell_type": "code",
   "execution_count": 29,
   "id": "df758af5",
   "metadata": {},
   "outputs": [
    {
     "data": {
      "image/png": "[encoded data removed]",
      "text/plain": [
       "<Figure size 1200x800 with 1 Axes>"
      ]
     },
     "metadata": {},
     "output_type": "display_data"
    }
   ],
   "source": [
    "# (a) Visual depiction of the tree\n",
    "plt.figure(figsize=(12, 8))\n",
    "plot_tree(simple_tree, \n",
    "          filled=True, \n",
    "          feature_names=list(X_train.columns), \n",
    "          class_names=['Negative', 'Positive'], \n",
    "          rounded=True, \n",
    "          proportion=True)\n",
    "plt.show()"
   ]
  },
  {
   "cell_type": "code",
   "execution_count": 30,
   "id": "c1bacde2",
   "metadata": {},
   "outputs": [
    {
     "name": "stdout",
     "output_type": "stream",
     "text": [
      "Out-of-sample AUC: 0.6631495333714954\n"
     ]
    }
   ],
   "source": [
    "# (b) Its out-of-sample AUC\n",
    "y_pred_test = simple_tree.predict_proba(X_test)[:, 1]\n",
    "test_auc = roc_auc_score(y_test, y_pred_test)\n",
    "print(f\"Out-of-sample AUC: {test_auc}\")"
   ]
  },
  {
   "cell_type": "code",
   "execution_count": 31,
   "id": "70a3bb2e",
   "metadata": {},
   "outputs": [
    {
     "data": {
      "image/png": "[encoded data removed]",
      "text/plain": [
       "<Figure size 800x600 with 1 Axes>"
      ]
     },
     "metadata": {},
     "output_type": "display_data"
    }
   ],
   "source": [
    "# (c) Its out-of-sample ROC plot\n",
    "fpr, tpr, thresholds = roc_curve(y_test, y_pred_test)\n",
    "plt.figure(figsize=(8, 6))\n",
    "plt.plot(fpr, tpr, label=f'AUC = {test_auc:.2f}')\n",
    "plt.plot([0, 1], [0, 1], 'k--')  # Dashed diagonal\n",
    "plt.xlabel('False Positive Rate')\n",
    "plt.ylabel('True Positive Rate')\n",
    "plt.title('ROC Curve')\n",
    "plt.legend(loc='lower right')\n",
    "plt.show()"
   ]
  },
  {
   "cell_type": "code",
   "execution_count": 32,
   "id": "1bb82d65",
   "metadata": {},
   "outputs": [
    {
     "name": "stdout",
     "output_type": "stream",
     "text": [
      "The highest achievable TPR with a TNR of at least 60%: 0.33532934131736525\n"
     ]
    }
   ],
   "source": [
    "# (d) The highest achievable True Positive Rate with True Negative Rate at least 60%\n",
    "# True Negative Rate is 1 - False Positive Rate\n",
    "\n",
    "required_tnr = 0.60\n",
    "required_fpr = 1 - required_tnr\n",
    "\n",
    "# Initialize variables to store the best TPR and its corresponding FPR\n",
    "best_tpr = 0\n",
    "for i, fpr_value in enumerate(fpr):\n",
    "    if fpr_value <= required_fpr and tpr[i] > best_tpr:\n",
    "        best_tpr = tpr[i]\n",
    "        closest_index = i\n",
    "\n",
    "highest_tpr_with_required_tnr = best_tpr\n",
    "print(f\"The highest achievable TPR with a TNR of at least 60%: {highest_tpr_with_required_tnr}\")"
   ]
  }
 ],
 "metadata": {
  "kernelspec": {
   "display_name": "Python 3 (ipykernel)",
   "language": "python",
   "name": "python3"
  },
  "language_info": {
   "codemirror_mode": {
    "name": "ipython",
    "version": 3
   },
   "file_extension": ".py",
   "mimetype": "text/x-python",
   "name": "python",
   "nbconvert_exporter": "python",
   "pygments_lexer": "ipython3",
   "version": "3.10.9"
  }
 },
 "nbformat": 4,
 "nbformat_minor": 5
}
