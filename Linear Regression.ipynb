{
 "cells": [
  {
   "cell_type": "markdown",
   "id": "049ae58f",
   "metadata": {},
   "source": [
    "# Homework 1 "
   ]
  },
  {
   "cell_type": "markdown",
   "id": "94b4d21d",
   "metadata": {},
   "source": [
    "## 1.1 Climate Change"
   ]
  },
  {
   "cell_type": "markdown",
   "id": "d245ca6a",
   "metadata": {},
   "source": [
    "### Q 1.1 (a)"
   ]
  },
  {
   "cell_type": "markdown",
   "id": "bd37ac37",
   "metadata": {},
   "source": [
    "Build a linear regression model to predict the dependent variable Temp, using CO2,\n",
    "CH4, N2O, CFC-11, CFC-12, Aerosols, TSI and MEI as features (Year and Month\n",
    "should NOT be used as features in the model). As always, use only the training set to\n",
    "train your model. What are the in-sample and out-of-sample R2, MSE, and MAE?"
   ]
  },
  {
   "cell_type": "code",
   "execution_count": 1,
   "id": "4df7df3f",
   "metadata": {},
   "outputs": [],
   "source": [
    "## We'll start by importing some packages that we need.\n",
    "\n",
    "# This line imports a package called pandas, which lets us manipulate data.\n",
    "# The \"as pd\" portion allows us to abbreviate it as \"pd\" instead of the longer \"pandas\"\n",
    "# When we use anything from pandas, we will need to preface it with \"pd.\"\n",
    "import pandas as pd\n",
    "\n",
    "# These lines import some functions from a package called sklearn (SciKit-Learn)\n",
    "# The syntax differs from the previous line: we are just importing parts of sklearn, not\n",
    "# the entire package \n",
    "from sklearn.linear_model import LinearRegression\n",
    "from sklearn.metrics import r2_score, mean_squared_error, mean_absolute_error"
   ]
  },
  {
   "cell_type": "code",
   "execution_count": 2,
   "id": "2fb71542",
   "metadata": {},
   "outputs": [],
   "source": [
    "## Loading data into python\n",
    "\n",
    "# We use the \"read_csv\" funuction from pandas to import our csv file \n",
    "# (make sure it is in the same folder as this notebook)\n",
    "# This creates an object called a \"DataFrame\" (think of it as a table or spreadsheet), \n",
    "# which we store in a variable we call \"df\" (or whatever you like)\n",
    "df = pd.read_csv('climate_change.csv')"
   ]
  },
  {
   "cell_type": "code",
   "execution_count": 3,
   "id": "9f47ebe6",
   "metadata": {},
   "outputs": [
    {
     "data": {
      "text/html": [
       "<div>\n",
       "<style scoped>\n",
       "    .dataframe tbody tr th:only-of-type {\n",
       "        vertical-align: middle;\n",
       "    }\n",
       "\n",
       "    .dataframe tbody tr th {\n",
       "        vertical-align: top;\n",
       "    }\n",
       "\n",
       "    .dataframe thead th {\n",
       "        text-align: right;\n",
       "    }\n",
       "</style>\n",
       "<table border=\"1\" class=\"dataframe\">\n",
       "  <thead>\n",
       "    <tr style=\"text-align: right;\">\n",
       "      <th></th>\n",
       "      <th>Year</th>\n",
       "      <th>Month</th>\n",
       "      <th>MEI</th>\n",
       "      <th>CO2</th>\n",
       "      <th>CH4</th>\n",
       "      <th>N2O</th>\n",
       "      <th>CFC-11</th>\n",
       "      <th>CFC-12</th>\n",
       "      <th>TSI</th>\n",
       "      <th>Aerosols</th>\n",
       "      <th>Temp</th>\n",
       "    </tr>\n",
       "  </thead>\n",
       "  <tbody>\n",
       "    <tr>\n",
       "      <th>0</th>\n",
       "      <td>1983</td>\n",
       "      <td>5</td>\n",
       "      <td>2.556</td>\n",
       "      <td>345.96</td>\n",
       "      <td>1638.59</td>\n",
       "      <td>303.677</td>\n",
       "      <td>191.324</td>\n",
       "      <td>350.113</td>\n",
       "      <td>1366.1024</td>\n",
       "      <td>0.0863</td>\n",
       "      <td>0.109</td>\n",
       "    </tr>\n",
       "    <tr>\n",
       "      <th>1</th>\n",
       "      <td>1983</td>\n",
       "      <td>6</td>\n",
       "      <td>2.167</td>\n",
       "      <td>345.52</td>\n",
       "      <td>1633.71</td>\n",
       "      <td>303.746</td>\n",
       "      <td>192.057</td>\n",
       "      <td>351.848</td>\n",
       "      <td>1366.1208</td>\n",
       "      <td>0.0794</td>\n",
       "      <td>0.118</td>\n",
       "    </tr>\n",
       "    <tr>\n",
       "      <th>2</th>\n",
       "      <td>1983</td>\n",
       "      <td>7</td>\n",
       "      <td>1.741</td>\n",
       "      <td>344.15</td>\n",
       "      <td>1633.22</td>\n",
       "      <td>303.795</td>\n",
       "      <td>192.818</td>\n",
       "      <td>353.725</td>\n",
       "      <td>1366.2850</td>\n",
       "      <td>0.0731</td>\n",
       "      <td>0.137</td>\n",
       "    </tr>\n",
       "  </tbody>\n",
       "</table>\n",
       "</div>"
      ],
      "text/plain": [
       "   Year  Month    MEI     CO2      CH4      N2O   CFC-11   CFC-12        TSI  \\\n",
       "0  1983      5  2.556  345.96  1638.59  303.677  191.324  350.113  1366.1024   \n",
       "1  1983      6  2.167  345.52  1633.71  303.746  192.057  351.848  1366.1208   \n",
       "2  1983      7  1.741  344.15  1633.22  303.795  192.818  353.725  1366.2850   \n",
       "\n",
       "   Aerosols   Temp  \n",
       "0    0.0863  0.109  \n",
       "1    0.0794  0.118  \n",
       "2    0.0731  0.137  "
      ]
     },
     "execution_count": 3,
     "metadata": {},
     "output_type": "execute_result"
    }
   ],
   "source": [
    "# Inspect the dataset\n",
    "df.head(3)"
   ]
  },
  {
   "cell_type": "code",
   "execution_count": 4,
   "id": "99040bde",
   "metadata": {},
   "outputs": [
    {
     "data": {
      "text/plain": [
       "0       True\n",
       "1       True\n",
       "2       True\n",
       "3       True\n",
       "4       True\n",
       "       ...  \n",
       "303    False\n",
       "304    False\n",
       "305    False\n",
       "306    False\n",
       "307    False\n",
       "Name: Year, Length: 308, dtype: bool"
      ]
     },
     "execution_count": 4,
     "metadata": {},
     "output_type": "execute_result"
    }
   ],
   "source": [
    "# We want to split our DataFrame into two separate DataFrames, \n",
    "# one containing the samples (rows) for years up to and including 2002,\n",
    "# and the other containing the remaining samples.\n",
    "\n",
    "# Try running this first:\n",
    "df['Year'] <= 2002"
   ]
  },
  {
   "cell_type": "code",
   "execution_count": 5,
   "id": "a8443184",
   "metadata": {},
   "outputs": [],
   "source": [
    "# What gets created is a column of True/False values (technically called \"Booleans\")\n",
    "# This is useful because you can select a subset of rows of a DataFrame using such a\n",
    "# column of Booleans:\n",
    "df_train = df[df['Year'] <= 2002]\n",
    "df_test = df[df['Year'] > 2002]"
   ]
  },
  {
   "cell_type": "code",
   "execution_count": 6,
   "id": "d348ef0c",
   "metadata": {},
   "outputs": [
    {
     "name": "stdout",
     "output_type": "stream",
     "text": [
      "[ 6.24077568e-03  2.62189354e-04 -3.48478075e-02 -8.87194950e-03\n",
      "  5.48441303e-03 -1.65036522e+00  1.19394890e-01  6.59008764e-02]\n",
      "-155.18672675256227\n"
     ]
    }
   ],
   "source": [
    "\n",
    "# First we create a \"blank\" linear regression model, \n",
    "# and store it in a variable called LR (or whatever you like)\n",
    "LR = LinearRegression()\n",
    "\n",
    "# Then we use the \"fit\" function, which takes two arguments:\n",
    "# (1) A DataFrame consisting of the features (which we choose to call X),\n",
    "# and (2) a single column consisting of the dependent variable (which we choose to call y)\n",
    "features = [\n",
    " 'CO2',\n",
    " 'CH4',\n",
    " 'N2O',\n",
    " 'CFC-11',\n",
    " 'CFC-12',\n",
    " 'Aerosols',\n",
    " 'TSI',\n",
    " 'MEI'\n",
    "]\n",
    "X = df_train[features]\n",
    "y = df_train['Temp']\n",
    "LR.fit(X,y)\n",
    "\n",
    "# After fitting, we can check the coefficients with the \"coef_\" attribute\n",
    "print(LR.coef_)\n",
    "\n",
    "# The intercept is accessed separately with the \"intercept_\" attribute\n",
    "print(LR.intercept_)"
   ]
  },
  {
   "cell_type": "code",
   "execution_count": 7,
   "id": "97dc61ec",
   "metadata": {},
   "outputs": [
    {
     "name": "stdout",
     "output_type": "stream",
     "text": [
      "[ 0.17388425  0.15841559  0.15350057  0.12857703  0.06130311  0.02553833\n",
      "  0.03309255  0.04231473 -0.031664   -0.01068428  0.10197352  0.05259175\n",
      "  0.06681793  0.07819404  0.06700922  0.03139968  0.01048613  0.00336547\n",
      " -0.03275843 -0.03910317 -0.05346115 -0.03884259 -0.03493211 -0.02765684\n",
      " -0.01932085  0.03151004  0.01593166  0.00613976 -0.01614836 -0.00380329\n",
      "  0.02097338  0.01148007  0.00479013 -0.01005374  0.02264638  0.01257807\n",
      "  0.04972718  0.03129798  0.01525541  0.01241494  0.03175436  0.02624214\n",
      "  0.04030077  0.07511653  0.0961955   0.10668054  0.16246885  0.19368148\n",
      "  0.22507544  0.20316498  0.18100737  0.18159762  0.17599625  0.16577688\n",
      "  0.17127095  0.18609952  0.18175286  0.17257688  0.14649912  0.15469565\n",
      "  0.17038154  0.08283408  0.01720794  0.02858676  0.04777394  0.01690012\n",
      "  0.03173094  0.04418694  0.09642237  0.09174279  0.0891332   0.15054893\n",
      "  0.20714106  0.16115666  0.22516949  0.13804734  0.11715114  0.1953378\n",
      "  0.19643068  0.22171703  0.22888664  0.22235451  0.25662915  0.26475626\n",
      "  0.2487362   0.25941347  0.19005278  0.14485547  0.22852223  0.20069849\n",
      "  0.1205909   0.18623974  0.13907315  0.17131205  0.22285705  0.30582885\n",
      "  0.25973245  0.25712306  0.24108736  0.14659654  0.13011299  0.02270396\n",
      "  0.06184008 -0.02266098  0.06434466  0.08460757  0.16555456  0.18961628\n",
      "  0.17116985  0.14775294  0.04597467  0.00950063  0.02180247  0.01681801\n",
      "  0.05835649  0.10720736  0.12176834  0.11433425  0.17788851  0.21951224\n",
      "  0.26984352  0.2389723   0.20113105  0.18959493  0.17408801  0.15355742\n",
      "  0.15263418  0.17834838  0.16447333  0.18926873  0.20852417  0.21599012\n",
      "  0.21375503  0.22872895  0.22871733  0.20838058  0.19272193  0.24300854\n",
      "  0.25969485  0.24989892  0.27291122  0.25895074  0.25929693  0.24229766\n",
      "  0.26027374  0.26256481  0.24157393  0.20886452  0.18147738  0.16141655\n",
      "  0.17532522  0.17452576  0.17817956  0.18561347  0.20645298  0.19495352\n",
      "  0.22940506  0.24636338  0.22165771  0.19991241  0.19149864  0.19559254\n",
      "  0.19672051  0.2120662   0.20665738  0.20326125  0.23152698  0.2924279\n",
      "  0.34448171  0.41366895  0.43060839  0.44457031  0.42730758  0.4184332\n",
      "  0.43034796  0.42893851  0.4453423   0.46408022  0.46940646  0.51588658\n",
      "  0.47651561  0.41346484  0.36378317  0.28484668  0.2601455   0.28207985\n",
      "  0.25000709  0.27641     0.28522012  0.25725077  0.29483724  0.29981666\n",
      "  0.33382783  0.35006206  0.3451912   0.31346534  0.30148772  0.26007641\n",
      "  0.27516813  0.27894663  0.32894327  0.31694876  0.3136345   0.38499129\n",
      "  0.38686907  0.37583903  0.36800149  0.40566366  0.3397972   0.38965982\n",
      "  0.36168982  0.38258209  0.37036291  0.37604684  0.34536815  0.38932038\n",
      "  0.42139025  0.39748766  0.43227968  0.3934138   0.33668529  0.3885632\n",
      "  0.36225942  0.42425262  0.47522947  0.45253702  0.44055381  0.44379621\n",
      "  0.48194892  0.49269632  0.40352406  0.42574092  0.43102143  0.44961635\n",
      "  0.45653261  0.50809166]\n"
     ]
    }
   ],
   "source": [
    "# Once you have your model trained, compute the in-sample error metrics (r-squared, MSE, MAE)\n",
    "y_pred = LR.predict(X)\n",
    "print(y_pred)\n"
   ]
  },
  {
   "cell_type": "code",
   "execution_count": 8,
   "id": "6f25c8fb",
   "metadata": {},
   "outputs": [
    {
     "name": "stdout",
     "output_type": "stream",
     "text": [
      "In-sample R^2: 0.692059595998479\n",
      "In-sample Mean Squared Error: 0.00873142640991104\n",
      "In-sample Mean Absolute Error: 0.07260918612938823\n"
     ]
    }
   ],
   "source": [
    "# The functions \"r2_score\", \"mean_squared_error\", and \"mean_absolute_error\" calculate regression metrics\n",
    "# Each takes two arguments: (1) a column of true values, and (2) a column of predicted values\n",
    "\n",
    "# Here, we are computing the in-sample metrics on the training data\n",
    "print(\"In-sample R^2:\",r2_score(y,y_pred))\n",
    "print(\"In-sample Mean Squared Error:\",mean_squared_error(y,y_pred))\n",
    "print(\"In-sample Mean Absolute Error:\",mean_absolute_error(y,y_pred))"
   ]
  },
  {
   "cell_type": "code",
   "execution_count": 9,
   "id": "e4190329",
   "metadata": {},
   "outputs": [
    {
     "name": "stdout",
     "output_type": "stream",
     "text": [
      "Out-of-sample R^2: -0.5413255834026054\n",
      "Out-of-sample Mean Squared Error: 0.012206974835139621\n",
      "Out-of-sample Mean Absolute Error: 0.093127478912773\n"
     ]
    }
   ],
   "source": [
    "# Now compute the out-of-sample metrics on the test data\n",
    "\n",
    "X_test = df_test[features]\n",
    "y_test = df_test['Temp']\n",
    "\n",
    "\n",
    "\n",
    "# Predict the values for the test dataset\n",
    "y_pred_test = LR.predict(X_test)\n",
    "\n",
    "\n",
    "# Now, calculate the out-of-sample metrics\n",
    "print(\"Out-of-sample R^2:\", r2_score(y_test, y_pred_test))\n",
    "print(\"Out-of-sample Mean Squared Error:\", mean_squared_error(y_test, y_pred_test))\n",
    "print(\"Out-of-sample Mean Absolute Error:\", mean_absolute_error(y_test, y_pred_test))\n",
    "\n"
   ]
  },
  {
   "cell_type": "markdown",
   "id": "6614edcc",
   "metadata": {},
   "source": [
    "### Q 1.1 (b)"
   ]
  },
  {
   "cell_type": "markdown",
   "id": "7886c198",
   "metadata": {},
   "source": [
    "Build another linear regression model, this time with only N2O, Aerosols, TSI, and\n",
    "MEI as features. What are the in-sample and out-of-sample R2, MSE, and MAE?"
   ]
  },
  {
   "cell_type": "code",
   "execution_count": 10,
   "id": "2cc09164",
   "metadata": {},
   "outputs": [
    {
     "name": "stdout",
     "output_type": "stream",
     "text": [
      "[ 0.02427612 -1.72465971  0.08577046  0.06549568]\n",
      "-124.48412557340242\n"
     ]
    }
   ],
   "source": [
    "# First we create a \"blank\" linear regression model, \n",
    "# and store it in a variable called LR (or whatever you like)\n",
    "LR = LinearRegression()\n",
    "\n",
    "# Then we use the \"fit\" function, which takes two arguments:\n",
    "# (1) A DataFrame consisting of the features (which we choose to call X),\n",
    "# and (2) a single column consisting of the dependent variable (which we choose to call y)\n",
    "features = [\n",
    " 'N2O',\n",
    " 'Aerosols',\n",
    " 'TSI',\n",
    " 'MEI'\n",
    "]\n",
    "X = df_train[features]\n",
    "y = df_train['Temp']\n",
    "LR.fit(X,y)\n",
    "\n",
    "# After fitting, we can check the coefficients with the \"coef_\" attribute\n",
    "print(LR.coef_)\n",
    "\n",
    "# The intercept is accessed separately with the \"intercept_\" attribute\n",
    "print(LR.intercept_)"
   ]
  },
  {
   "cell_type": "code",
   "execution_count": 11,
   "id": "6504f78c",
   "metadata": {},
   "outputs": [
    {
     "name": "stdout",
     "output_type": "stream",
     "text": [
      "[ 0.07777432  0.06744988  0.06568712  0.0483366  -0.00283643 -0.03541476\n",
      " -0.03366419 -0.029885   -0.08778917 -0.07478511  0.0222632  -0.00854613\n",
      "  0.00316551  0.01947408  0.02793806  0.02096504  0.02504365  0.03120327\n",
      "  0.00366803 -0.00274222 -0.00878533 -0.00358603 -0.01546181 -0.0125586\n",
      " -0.01748963  0.02979212  0.02270127  0.01846716  0.00687688  0.02496252\n",
      "  0.04357286  0.03066313  0.028157    0.02608503  0.0580052   0.0455205\n",
      "  0.08779545  0.08816069  0.09626182  0.12034769  0.14848411  0.14087662\n",
      "  0.13672688  0.15030005  0.14788956  0.13805188  0.16800359  0.16625843\n",
      "  0.19634092  0.19561266  0.19726892  0.19992313  0.20112011  0.1893729\n",
      "  0.1816751   0.18861451  0.18380039  0.16141729  0.13459232  0.13377162\n",
      "  0.13739617  0.05840184  0.01264119  0.02538567  0.0454641   0.03954672\n",
      "  0.0552308   0.06451409  0.10348405  0.10443589  0.10160263  0.13228936\n",
      "  0.17272794  0.14725364  0.19853802  0.14771903  0.14860422  0.2108297\n",
      "  0.22174682  0.24424235  0.25144887  0.24820447  0.27703175  0.2625154\n",
      "  0.24585456  0.24777702  0.19772895  0.1772065   0.25456232  0.23521152\n",
      "  0.18269753  0.22994134  0.20386226  0.22928397  0.25217924  0.29956098\n",
      "  0.25639099  0.26082056  0.23291034  0.16282215  0.14647662  0.06527355\n",
      "  0.09125523  0.0528467   0.1192471   0.10853867  0.14458282  0.15272151\n",
      "  0.12640938  0.10875033  0.05137313  0.04449439  0.07681099  0.07833851\n",
      "  0.10166769  0.14084882  0.15714296  0.15499598  0.18516161  0.21695603\n",
      "  0.25593229  0.23011298  0.21509517  0.20612633  0.1893743   0.19030297\n",
      "  0.18700999  0.18128941  0.15320098  0.17330161  0.17662314  0.18454055\n",
      "  0.1862063   0.20377904  0.20858775  0.2088726   0.21630769  0.26451557\n",
      "  0.26775784  0.25158578  0.27387746  0.26025838  0.24478101  0.20399801\n",
      "  0.20975027  0.21516527  0.19086358  0.16848921  0.15248953  0.15085944\n",
      "  0.15978602  0.15783465  0.15750597  0.16482873  0.18338379  0.16785996\n",
      "  0.1856984   0.19727471  0.18028495  0.17867648  0.17572081  0.18084028\n",
      "  0.18622869  0.20272305  0.19402454  0.18588487  0.21492785  0.26600229\n",
      "  0.30619839  0.38529576  0.41550241  0.43859913  0.43231978  0.41697774\n",
      "  0.4207862   0.41680705  0.44016074  0.45752525  0.44413678  0.45999226\n",
      "  0.41680854  0.36087453  0.32522346  0.26815965  0.25265985  0.26807362\n",
      "  0.24739466  0.27489363  0.2772131   0.25055079  0.2685866   0.25990337\n",
      "  0.29465979  0.31435875  0.31569744  0.30001505  0.29883417  0.27170032\n",
      "  0.28138925  0.27630176  0.30923276  0.29787152  0.29241077  0.34816924\n",
      "  0.37346971  0.36534444  0.37777345  0.41732338  0.37330692  0.40493336\n",
      "  0.37746014  0.39453516  0.38405749  0.37804571  0.3455026   0.37946089\n",
      "  0.4037895   0.38676413  0.42816623  0.41403099  0.37138538  0.41007663\n",
      "  0.39646417  0.44383677  0.47904676  0.45775931  0.44281482  0.44509875\n",
      "  0.47231607  0.48172867  0.42178875  0.4543767   0.46266094  0.48076356\n",
      "  0.48330854  0.51393392]\n"
     ]
    }
   ],
   "source": [
    "# Once you have your model trained, compute the in-sample error metrics (r-squared, MSE, MAE)\n",
    "y_pred = LR.predict(X)\n",
    "print(y_pred)\n"
   ]
  },
  {
   "cell_type": "code",
   "execution_count": 12,
   "id": "54e03adc",
   "metadata": {},
   "outputs": [
    {
     "name": "stdout",
     "output_type": "stream",
     "text": [
      "In-sample R^2: 0.6490120806760438\n",
      "In-sample Mean Squared Error: 0.0099520074291056\n",
      "In-sample Mean Absolute Error: 0.07666650280233127\n"
     ]
    }
   ],
   "source": [
    "# Here, we are computing the in-sample metrics on the training data\n",
    "print(\"In-sample R^2:\",r2_score(y,y_pred))\n",
    "print(\"In-sample Mean Squared Error:\",mean_squared_error(y,y_pred))\n",
    "print(\"In-sample Mean Absolute Error:\",mean_absolute_error(y,y_pred))"
   ]
  },
  {
   "cell_type": "code",
   "execution_count": 13,
   "id": "f3ff1f76",
   "metadata": {},
   "outputs": [
    {
     "name": "stdout",
     "output_type": "stream",
     "text": [
      "Out-of-sample R^2: 0.20031861104556403\n",
      "Out-of-sample Mean Squared Error: 0.006333308611894022\n",
      "Out-of-sample Mean Absolute Error: 0.06154027269393324\n"
     ]
    }
   ],
   "source": [
    "# Now compute the out-of-sample metrics on the test data\n",
    "\n",
    "X_test = df_test[features]\n",
    "y_test = df_test['Temp']\n",
    "\n",
    "\n",
    "\n",
    "# Predict the values for the test dataset\n",
    "y_pred_test = LR.predict(X_test)\n",
    "\n",
    "\n",
    "# Now, calculate the out-of-sample metrics\n",
    "print(\"Out-of-sample R^2:\", r2_score(y_test, y_pred_test))\n",
    "print(\"Out-of-sample Mean Squared Error:\", mean_squared_error(y_test, y_pred_test))\n",
    "print(\"Out-of-sample Mean Absolute Error:\", mean_absolute_error(y_test, y_pred_test))\n"
   ]
  },
  {
   "cell_type": "markdown",
   "id": "af6ab63b",
   "metadata": {},
   "source": [
    "### Q 1.1 (c)"
   ]
  },
  {
   "cell_type": "markdown",
   "id": "fb34b69d",
   "metadata": {},
   "source": [
    "Between the two models built in parts (a) and (b), which performs better in-sample?\n",
    "Which performs better out-of-sample?\n",
    "\n",
    "\n",
    "Model A (in sample)\n",
    "\\\n",
    "In-sample R^2: 0.692059595998479\n",
    "\\\n",
    "In-sample Mean Squared Error: 0.00873142640991104\n",
    "\\\n",
    "In-sample Mean Absolute Error: 0.07260918612938823 \n",
    "\n",
    "Model B (in sample)\n",
    "\\\n",
    "In-sample R^2: 0.6490120806760438\n",
    "\\\n",
    "In-sample Mean Squared Error: 0.0099520074291056\n",
    "\\\n",
    "In-sample Mean Absolute Error: 0.07666650280233127\n",
    "\n",
    "Model A (out sample)\n",
    "\\\n",
    "Out-of-sample R^2: -0.5413255834026054\n",
    "\\\n",
    "Out-of-sample Mean Squared Error: 0.012206974835139621\n",
    "\\\n",
    "Out-of-sample Mean Absolute Error: 0.093127478912773\n",
    "\n",
    "Model B (out sample)\n",
    "\\\n",
    "Out-of-sample R^2: 0.20031861104556403\n",
    "\\\n",
    "Out-of-sample Mean Squared Error: 0.006333308611894022\n",
    "\\\n",
    "Out-of-sample Mean Absolute Error: 0.06154027269393324\n",
    "\n",
    "\n",
    "#### Answer\n",
    "\n",
    "Based on our analysis, the model in part A performs better in-sample since it has a higher R^2 and lower Mean Squared Error (MSE) and Mean Absolute Error (MAE). It has a higher R^2, indicating better variance explanation, and lower MSE and MAE, suggesting more accurate predictions with less error.\n",
    "\n",
    "In the out-of-sample evaluation, the model in part B performs better than the model in part A. Model B has a positive R^2 value, indicating some predictive relevance, while Model A has a negative R^2, suggesting poor model fit. Additionally, Model B has lower MSE and MAE values, meaning its predictions are closer to the actual values compared to Model A.\n",
    "\n",
    "\n",
    "\n",
    "\n",
    "\n"
   ]
  },
  {
   "cell_type": "markdown",
   "id": "b1ab3bb8",
   "metadata": {},
   "source": [
    "### Q 1.1 (d)"
   ]
  },
  {
   "cell_type": "markdown",
   "id": "4c19c7d6",
   "metadata": {},
   "source": [
    "For each of the two models built in parts (a) and (b), what was the regression coefficient\n",
    "for the N2O feature, and how should this coefficient be interpreted?\n",
    "\n",
    "Model A (N2O Coefficient):\n",
    "\n",
    "-3.48478075e-02\n",
    "\n",
    "Model B (N2O Coefficient):\n",
    "\n",
    "0.02427612\n",
    "\n",
    "\n",
    "\n",
    "#### Answer\n",
    "\n",
    "For Model A, we estimate that a unit increase in N2O will result in a decrease in  global temperature compared to reference value by -3.48478075e-02, all else equal. This is counterintuitive to the scientific understanding that N2O, as a greenhouse gas, should contribute to heating.\n",
    "\n",
    "For Model B, we estimate that a unit increase in N2O will result in an increase in global temperature compared to reference value by 0.02427612, all else equal. This is consistent with the scientific understanding that N2O is trapping more heat and contributing to Earth's heating.\n",
    "\n",
    "\n",
    "\n"
   ]
  },
  {
   "cell_type": "markdown",
   "id": "06a9f442",
   "metadata": {},
   "source": [
    "### Q 1.1 (e)"
   ]
  },
  {
   "cell_type": "markdown",
   "id": "9d8d5eaf",
   "metadata": {},
   "source": [
    "Given your responses to parts (c) and (d), which of the two models should you prefer\n",
    "to use moving forward?\n",
    "\n",
    "\n",
    "#### Answer\n",
    "\n",
    "In general, we want to create models that perform better out of sample. Hence, the model in part B that uses N2O, Aerosols, TSI, and MEI is our ideal choice. This is supported through the superior values of R^2, MSE, and MAE of Model B when tested out of sample. Moreover, the coefficients in Model B corresponds to the scientifc understanding that N2O is contributing to Global Warming and Climate Change since the coefficient is positive. This is not the case in Model A. Hence, based on the arguments in parts c and d, Model B is preferred going forward.\n"
   ]
  }
 ],
 "metadata": {
  "kernelspec": {
   "display_name": "Python 3 (ipykernel)",
   "language": "python",
   "name": "python3"
  },
  "language_info": {
   "codemirror_mode": {
    "name": "ipython",
    "version": 3
   },
   "file_extension": ".py",
   "mimetype": "text/x-python",
   "name": "python",
   "nbconvert_exporter": "python",
   "pygments_lexer": "ipython3",
   "version": "3.10.9"
  }
 },
 "nbformat": 4,
 "nbformat_minor": 5
}
